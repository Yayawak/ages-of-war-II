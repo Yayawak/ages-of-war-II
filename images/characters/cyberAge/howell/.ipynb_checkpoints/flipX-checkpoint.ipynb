{
 "cells": [
  {
   "cell_type": "code",
   "execution_count": null,
   "id": "a010f626-2dda-43b1-af5f-8448e33f7098",
   "metadata": {},
   "outputs": [],
   "source": []
  },
  {
   "cell_type": "code",
   "execution_count": null,
   "id": "5aa8ab73-62e1-4bd1-b4dc-70bcb31fab8c",
   "metadata": {},
   "outputs": [],
   "source": []
  },
  {
   "cell_type": "code",
   "execution_count": 79,
   "id": "ffd142b7-2627-4428-8f2a-a86bf21641f8",
   "metadata": {},
   "outputs": [
    {
     "name": "stdout",
     "output_type": "stream",
     "text": [
      "./whiping atk\n",
      "------------\n",
      "./walk\n",
      "------------\n",
      "./flying medkit\n",
      "------------\n",
      "./green gun effect\n",
      "------------\n",
      "./long range atk\n",
      "------------\n"
     ]
    }
   ],
   "source": [
    "import cv2\n",
    "import numpy as np\n",
    "from PIL import Image\n",
    "import os\n",
    "import matplotlib.pyplot as plt\n",
    "# os.path()\n",
    "# w = os.walk(\"./\")\n",
    "# for wi in w:\n",
    "#     print(wi)\n",
    "# for file in os.listdir()\n",
    "path = \"./\"\n",
    "for f in os.listdir():\n",
    "    if os.path.isdir(os.path.join(path, f)):\n",
    "        if (f.startswith(\".\")): continue\n",
    "        \n",
    "        j = os.path.join(path, f)\n",
    "        print(j)\n",
    "        for img_file in os.listdir(j):\n",
    "            rel_path = os.path.join(j, img_file)\n",
    "            # print(img_file)\n",
    "            # print(rel_path)\n",
    "            # try:\n",
    "            # print(rel_path)\n",
    "            if not rel_path.startswith(\".\"):\n",
    "            # if True:\n",
    "                # img = Image.open(rel_path)\n",
    "                # img_flipped = img.transpose(method=Image.FLIP_LEFT_RIGHT)\n",
    "                # img_flipped.save(rel_path)\n",
    "                # img_flipped.save(\"5555555555.png\")\n",
    "                # plt.imshow(img_flipped)\n",
    "                # img = np.array(Image.open(rel_path))\n",
    "                # img_flipped = ImageOps.mirror(img)\n",
    "                # img_flipped.save(rel_path)\n",
    "                img = cv2.imread(rel_path, cv2.IMREAD_UNCHANGED)\n",
    "                imf = cv2.flip(img, 1)\n",
    "                cv2.imwrite()\n",
    "                # imf.save(rel_path)\n",
    "                # ImageOps.mirror(img).save(rel_path)\n",
    "                \n",
    "                \n",
    "            # except:\n",
    "                # ...\n",
    "            # img = cv2.imread(rel_path)\n",
    "            # img_h = cv2.flip(img, 1)\n",
    "            # cv2.imwrite(rel_path, img_h)\n",
    "        print(\"------------\")\n"
   ]
  },
  {
   "cell_type": "code",
   "execution_count": null,
   "id": "5f1468f0-ba3b-4edf-a962-04e4785674fb",
   "metadata": {},
   "outputs": [],
   "source": []
  },
  {
   "cell_type": "code",
   "execution_count": null,
   "id": "572bc635-8797-4fe4-9e76-ac8f5f846fa6",
   "metadata": {},
   "outputs": [],
   "source": []
  }
 ],
 "metadata": {
  "kernelspec": {
   "display_name": "Python 3 (ipykernel)",
   "language": "python",
   "name": "python3"
  },
  "language_info": {
   "codemirror_mode": {
    "name": "ipython",
    "version": 3
   },
   "file_extension": ".py",
   "mimetype": "text/x-python",
   "name": "python",
   "nbconvert_exporter": "python",
   "pygments_lexer": "ipython3",
   "version": "3.9.13"
  }
 },
 "nbformat": 4,
 "nbformat_minor": 5
}
